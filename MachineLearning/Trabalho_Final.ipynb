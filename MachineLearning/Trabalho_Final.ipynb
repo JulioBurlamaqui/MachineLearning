{
  "nbformat": 4,
  "nbformat_minor": 0,
  "metadata": {
    "colab": {
      "provenance": []
    },
    "kernelspec": {
      "name": "python3",
      "display_name": "Python 3"
    },
    "language_info": {
      "name": "python"
    }
  },
  "cells": [
    {
      "cell_type": "code",
      "execution_count": null,
      "metadata": {
        "id": "oCKpmgTjB_Vu",
        "colab": {
          "base_uri": "https://localhost:8080/"
        },
        "outputId": "d067d6ba-fd8f-4c2e-e402-364498e3e712"
      },
      "outputs": [
        {
          "output_type": "stream",
          "name": "stdout",
          "text": [
            "Requirement already satisfied: torch in /usr/local/lib/python3.10/dist-packages (2.1.0+cu118)\n",
            "Requirement already satisfied: torchvision in /usr/local/lib/python3.10/dist-packages (0.16.0+cu118)\n",
            "Requirement already satisfied: torchaudio in /usr/local/lib/python3.10/dist-packages (2.1.0+cu118)\n",
            "Requirement already satisfied: filelock in /usr/local/lib/python3.10/dist-packages (from torch) (3.13.1)\n",
            "Requirement already satisfied: typing-extensions in /usr/local/lib/python3.10/dist-packages (from torch) (4.5.0)\n",
            "Requirement already satisfied: sympy in /usr/local/lib/python3.10/dist-packages (from torch) (1.12)\n",
            "Requirement already satisfied: networkx in /usr/local/lib/python3.10/dist-packages (from torch) (3.2.1)\n",
            "Requirement already satisfied: jinja2 in /usr/local/lib/python3.10/dist-packages (from torch) (3.1.2)\n",
            "Requirement already satisfied: fsspec in /usr/local/lib/python3.10/dist-packages (from torch) (2023.6.0)\n",
            "Requirement already satisfied: triton==2.1.0 in /usr/local/lib/python3.10/dist-packages (from torch) (2.1.0)\n",
            "Requirement already satisfied: numpy in /usr/local/lib/python3.10/dist-packages (from torchvision) (1.23.5)\n",
            "Requirement already satisfied: requests in /usr/local/lib/python3.10/dist-packages (from torchvision) (2.31.0)\n",
            "Requirement already satisfied: pillow!=8.3.*,>=5.3.0 in /usr/local/lib/python3.10/dist-packages (from torchvision) (9.4.0)\n",
            "Requirement already satisfied: MarkupSafe>=2.0 in /usr/local/lib/python3.10/dist-packages (from jinja2->torch) (2.1.3)\n",
            "Requirement already satisfied: charset-normalizer<4,>=2 in /usr/local/lib/python3.10/dist-packages (from requests->torchvision) (3.3.2)\n",
            "Requirement already satisfied: idna<4,>=2.5 in /usr/local/lib/python3.10/dist-packages (from requests->torchvision) (3.4)\n",
            "Requirement already satisfied: urllib3<3,>=1.21.1 in /usr/local/lib/python3.10/dist-packages (from requests->torchvision) (2.0.7)\n",
            "Requirement already satisfied: certifi>=2017.4.17 in /usr/local/lib/python3.10/dist-packages (from requests->torchvision) (2023.7.22)\n",
            "Requirement already satisfied: mpmath>=0.19 in /usr/local/lib/python3.10/dist-packages (from sympy->torch) (1.3.0)\n"
          ]
        }
      ],
      "source": [
        "!pip3 install torch torchvision torchaudio"
      ]
    },
    {
      "cell_type": "code",
      "source": [
        "from torch import nn, optim, no_grad\n",
        "from torch.utils.data import DataLoader\n",
        "from torchvision import datasets, transforms\n",
        "import numpy as np\n",
        "from matplotlib.pyplot import imshow\n",
        "from time import time\n",
        "from sklearn.metrics import mean_squared_error as MSE\n",
        "from sklearn.metrics import mean_absolute_error as MAE"
      ],
      "metadata": {
        "id": "tN_Zvv0dCh4x"
      },
      "execution_count": 22,
      "outputs": []
    },
    {
      "cell_type": "code",
      "source": [
        "MNIST_treino = datasets.MNIST('./', train = True, transform = transforms.ToTensor(), download=True)\n",
        "MNIST_teste =  datasets.MNIST('./', train = False, transform = transforms.ToTensor(), download=False)"
      ],
      "metadata": {
        "id": "o4W_59-TESk_",
        "colab": {
          "base_uri": "https://localhost:8080/"
        },
        "outputId": "332ef8e1-54c3-4c0a-9d5a-b95276dd5c81"
      },
      "execution_count": null,
      "outputs": [
        {
          "output_type": "stream",
          "name": "stdout",
          "text": [
            "Downloading http://yann.lecun.com/exdb/mnist/train-images-idx3-ubyte.gz\n",
            "Downloading http://yann.lecun.com/exdb/mnist/train-images-idx3-ubyte.gz to ./MNIST/raw/train-images-idx3-ubyte.gz\n"
          ]
        },
        {
          "output_type": "stream",
          "name": "stderr",
          "text": [
            "100%|██████████| 9912422/9912422 [00:00<00:00, 23732812.91it/s]\n"
          ]
        },
        {
          "output_type": "stream",
          "name": "stdout",
          "text": [
            "Extracting ./MNIST/raw/train-images-idx3-ubyte.gz to ./MNIST/raw\n",
            "\n",
            "Downloading http://yann.lecun.com/exdb/mnist/train-labels-idx1-ubyte.gz\n",
            "Downloading http://yann.lecun.com/exdb/mnist/train-labels-idx1-ubyte.gz to ./MNIST/raw/train-labels-idx1-ubyte.gz\n"
          ]
        },
        {
          "output_type": "stream",
          "name": "stderr",
          "text": [
            "100%|██████████| 28881/28881 [00:00<00:00, 79173656.09it/s]"
          ]
        },
        {
          "output_type": "stream",
          "name": "stdout",
          "text": [
            "Extracting ./MNIST/raw/train-labels-idx1-ubyte.gz to ./MNIST/raw\n",
            "\n",
            "Downloading http://yann.lecun.com/exdb/mnist/t10k-images-idx3-ubyte.gz\n",
            "Downloading http://yann.lecun.com/exdb/mnist/t10k-images-idx3-ubyte.gz to ./MNIST/raw/t10k-images-idx3-ubyte.gz\n"
          ]
        },
        {
          "output_type": "stream",
          "name": "stderr",
          "text": [
            "\n",
            "100%|██████████| 1648877/1648877 [00:00<00:00, 25955292.08it/s]\n"
          ]
        },
        {
          "output_type": "stream",
          "name": "stdout",
          "text": [
            "Extracting ./MNIST/raw/t10k-images-idx3-ubyte.gz to ./MNIST/raw\n",
            "\n",
            "Downloading http://yann.lecun.com/exdb/mnist/t10k-labels-idx1-ubyte.gz\n",
            "Downloading http://yann.lecun.com/exdb/mnist/t10k-labels-idx1-ubyte.gz to ./MNIST/raw/t10k-labels-idx1-ubyte.gz\n"
          ]
        },
        {
          "output_type": "stream",
          "name": "stderr",
          "text": [
            "100%|██████████| 4542/4542 [00:00<00:00, 13075174.17it/s]"
          ]
        },
        {
          "output_type": "stream",
          "name": "stdout",
          "text": [
            "Extracting ./MNIST/raw/t10k-labels-idx1-ubyte.gz to ./MNIST/raw\n",
            "\n"
          ]
        },
        {
          "output_type": "stream",
          "name": "stderr",
          "text": [
            "\n"
          ]
        }
      ]
    },
    {
      "cell_type": "markdown",
      "source": [
        "# Nova secção"
      ],
      "metadata": {
        "id": "kC8vDFtTRlt-"
      }
    },
    {
      "cell_type": "code",
      "source": [
        "print(len(MNIST_treino), len(MNIST_teste))"
      ],
      "metadata": {
        "id": "HVZJvV7QFco3"
      },
      "execution_count": null,
      "outputs": []
    },
    {
      "cell_type": "code",
      "source": [
        "type(MNIST_teste)"
      ],
      "metadata": {
        "id": "Htmliv9hGjfi"
      },
      "execution_count": null,
      "outputs": []
    },
    {
      "cell_type": "code",
      "source": [
        "MNIST_teste[0]"
      ],
      "metadata": {
        "id": "Vauu5MvDGsW_"
      },
      "execution_count": null,
      "outputs": []
    },
    {
      "cell_type": "code",
      "source": [
        "type(MNIST_teste[0])"
      ],
      "metadata": {
        "id": "7sDahqwTGp6H"
      },
      "execution_count": null,
      "outputs": []
    },
    {
      "cell_type": "code",
      "source": [
        "type(MNIST_teste[0][0])"
      ],
      "metadata": {
        "id": "2igOKoOVHBAD"
      },
      "execution_count": null,
      "outputs": []
    },
    {
      "cell_type": "code",
      "source": [
        "len(MNIST_teste[0][0])"
      ],
      "metadata": {
        "id": "ROK9gEqaHDyT"
      },
      "execution_count": null,
      "outputs": []
    },
    {
      "cell_type": "code",
      "source": [
        "MNIST_teste[0][0]"
      ],
      "metadata": {
        "id": "uGRlP59BG7wn"
      },
      "execution_count": null,
      "outputs": []
    },
    {
      "cell_type": "code",
      "source": [
        "MNIST_teste[0][0][0].shape"
      ],
      "metadata": {
        "id": "8vPDD_jzXMtb"
      },
      "execution_count": null,
      "outputs": []
    },
    {
      "cell_type": "code",
      "source": [
        "MNIST_teste[0][0][0].shape[0]"
      ],
      "metadata": {
        "id": "Ir5FJ1zqXIxs"
      },
      "execution_count": null,
      "outputs": []
    },
    {
      "cell_type": "code",
      "source": [
        "MNIST_teste[0][0][0].shape[0] * MNIST_teste[0][0][0].shape[1]"
      ],
      "metadata": {
        "id": "CP1j0RDxHHx7"
      },
      "execution_count": null,
      "outputs": []
    },
    {
      "cell_type": "code",
      "source": [
        "imagem, rotulo = MNIST_treino[11111]\n",
        "\n",
        "imshow(imagem[0])\n",
        "print(rotulo)"
      ],
      "metadata": {
        "colab": {
          "base_uri": "https://localhost:8080/",
          "height": 447
        },
        "id": "wna58216GYmr",
        "outputId": "7bc75f4c-97e5-4796-a664-15f37943576e"
      },
      "execution_count": null,
      "outputs": [
        {
          "output_type": "stream",
          "name": "stdout",
          "text": [
            "3\n"
          ]
        },
        {
          "output_type": "display_data",
          "data": {
            "text/plain": [
              "<Figure size 640x480 with 1 Axes>"
            ],
            "image/png": "[encoded data removed]"
          },
          "metadata": {}
        }
      ]
    },
    {
      "cell_type": "code",
      "source": [
        "args = {\n",
        "    'batch_size':       5,    #quantidade de amostras por iteração\n",
        "    'num_threads':      4,    #número de threads do DataLoader\n",
        "    #número real de batches = 20 (tamanho de cada batch * quantidade de threads)\n",
        "    'num_classes':      len(MNIST_teste.classes),\n",
        "    'taxa_aprendizado': 1e-4, #\n",
        "    'weight_decay':     5e-4, #\n",
        "    'num_epochs':       30    #\n",
        "}\n",
        "neurons = {\n",
        "    'input_size':   1 * 28 * 28, #dimensão de entrada (imagens de 28x28 bits com 1 canal de cor. precisa ser achatado para uma única dimensão)\n",
        "    'hidden_size':  128, # dimensão escondida, hiperparâmetro\n",
        "    'out_size':     args['num_classes']\n",
        "}"
      ],
      "metadata": {
        "id": "QAJuD0uXFTYN"
      },
      "execution_count": null,
      "outputs": []
    },
    {
      "cell_type": "code",
      "source": [
        "treino_loader = DataLoader(MNIST_treino,\n",
        "                          batch_size = args['batch_size'],\n",
        "                          shuffle = True,\n",
        "                          num_workers = args['num_threads'])\n",
        "\n",
        "teste_loader = DataLoader(MNIST_teste,\n",
        "                          batch_size = args['batch_size'],\n",
        "                          shuffle = True,\n",
        "                          num_workers = args['num_threads'])\n"
      ],
      "metadata": {
        "colab": {
          "base_uri": "https://localhost:8080/"
        },
        "id": "yVHen7lHB5o6",
        "outputId": "3757dc22-1fec-4e5d-c517-6bca05f23d02"
      },
      "execution_count": null,
      "outputs": [
        {
          "output_type": "stream",
          "name": "stderr",
          "text": [
            "/usr/local/lib/python3.10/dist-packages/torch/utils/data/dataloader.py:557: UserWarning: This DataLoader will create 4 worker processes in total. Our suggested max number of worker in current system is 2, which is smaller than what this DataLoader is going to create. Please be aware that excessive worker creation might get DataLoader running slow or even freeze, lower the worker number to avoid potential slowness/freeze if necessary.\n",
            "  warnings.warn(_create_warning_msg(\n"
          ]
        }
      ]
    },
    {
      "cell_type": "code",
      "source": [
        "class MNIST_MLP(nn.Module):\n",
        "  #Definição da nossa própria multi-layered perceptron\n",
        "  def __init__(self, input_size, hidden_size, out_size):\n",
        "    super(MNIST_MLP, self).__init__()\n",
        "\n",
        "    #Definição das camadas e das funções de ativação intermediárias\n",
        "    # aqui escolhemos duas redes lineares e como funções de ativação, ReLU duas vezes\n",
        "    self.features  = nn.Sequential(\n",
        "                        nn.Linear(input_size, hidden_size),\n",
        "                        nn.ReLU(),\n",
        "                        nn.Linear(hidden_size, hidden_size),\n",
        "                        nn.ReLU())\n",
        "    #A de saída também será linear\n",
        "    self.out     = nn.Linear(hidden_size, out_size)\n",
        "    self.softmax = nn.Softmax()\n",
        "    #Como estamos lidando com um processo de classificação, passaremos por um softmax\n",
        "\n",
        "  def forward(self, input):\n",
        "    #Define a computação de cada chamada\n",
        "    input = input.view(input.size(0), -1) #Linearizando a entrada\n",
        "\n",
        "    feature = self.features(input)\n",
        "    output  = self.softmax(self.out(feature))\n",
        "\n",
        "    return output\n"
      ],
      "metadata": {
        "id": "dSAazYaWF0D8"
      },
      "execution_count": null,
      "outputs": []
    },
    {
      "cell_type": "code",
      "source": [
        "rede = MNIST_MLP(neurons['input_size'], neurons['hidden_size'], neurons['out_size'])"
      ],
      "metadata": {
        "id": "_ntsjRwNeGJ3"
      },
      "execution_count": null,
      "outputs": []
    },
    {
      "cell_type": "code",
      "source": [
        "criterion = nn.CrossEntropyLoss()"
      ],
      "metadata": {
        "id": "P2rNLzLdfLBD"
      },
      "execution_count": null,
      "outputs": []
    },
    {
      "cell_type": "code",
      "source": [
        "optimizer = optim.Adam(rede.parameters(), lr=args['taxa_aprendizado'], weight_decay=args['weight_decay'])\n",
        "#Pesquisar sobre pq Adam (sei leigamente que é mt bom)"
      ],
      "metadata": {
        "id": "2XN1UeCMboGs"
      },
      "execution_count": null,
      "outputs": []
    },
    {
      "cell_type": "code",
      "source": [
        "def treina(train_set, rede, num_epochs):\n",
        "  rede.train() #modo treino\n",
        "\n",
        "  for epoch in range(num_epochs):\n",
        "    start = time()\n",
        "\n",
        "    epoch_loss = []\n",
        "    for batch in train_set:\n",
        "\n",
        "      dado, rotulo = batch\n",
        "\n",
        "      # Forward\n",
        "      pred = rede(dado)\n",
        "      loss = criterion(pred, rotulo) #CrossEntropy indicado para classificação multiclasses\n",
        "      epoch_loss.append(loss.item())\n",
        "\n",
        "      # Backward\n",
        "      loss.backward()\n",
        "      optimizer.step()\n",
        "\n",
        "    epoch_loss = np.asarray(epoch_loss)\n",
        "    end = time()\n",
        "\n",
        "    print(\"Epoca %d, Loss: %.4f +\\- %.4f, Tempo: %.2f\" % (epoch, epoch_loss.mean(), epoch_loss.std(), end-start))\n",
        "\n",
        "    return epoch_loss.mean()\n"
      ],
      "metadata": {
        "id": "DP73s473cvhM"
      },
      "execution_count": null,
      "outputs": []
    },
    {
      "cell_type": "code",
      "source": [
        "def valida(teste_set, rede, num_epochs):\n",
        "  rede.eval() #modo avaliação\n",
        "\n",
        "  for epoch in range(num_epochs):\n",
        "    start = time()\n",
        "\n",
        "    epoch_loss = []\n",
        "    y_true = []\n",
        "    y_pred = []\n",
        "\n",
        "    with no_grad():\n",
        "\n",
        "      for batch in teste_set:\n",
        "\n",
        "        dado, rotulo = batch\n",
        "\n",
        "        # Forward\n",
        "        pred = rede(dado)\n",
        "        loss = criterion(pred, rotulo) #CrossEntropy indicado para classificação multiclasses\n",
        "        epoch_loss.append(loss.item())\n",
        "\n",
        "        y_true.extend(rotulo)\n",
        "        y_pred.extend(pred)\n",
        "\n",
        "    epoch_loss = np.asarray(epoch_loss)\n",
        "    mse = MSE(y_true, y_pred)\n",
        "    mae = MAE(y_true, y_pred)\n",
        "    end = time()\n",
        "\n",
        "    print(\"Epoca %d, Loss: %.4f +\\- %.4f, Tempo: %.2f\" % (epoch, epoch_loss.mean(), epoch_loss.std(), end-start))\n",
        "\n",
        "    return epoch_loss.mean(), mse, mae"
      ],
      "metadata": {
        "id": "UKyVYB-wbecP"
      },
      "execution_count": null,
      "outputs": []
    },
    {
      "cell_type": "code",
      "source": [
        "treino_loss, teste_loss, mse_loss, mae_loss = [], [], [], []\n",
        "for epoch in range(args['num_epochs']):\n",
        "\n",
        "  # Train\n",
        "  treino_loss.append(treina(treino_loader, rede, args['num_epochs']))\n",
        "\n",
        "  # Validate\n",
        "  teste_loss.append(valida(teste_loader, rede, args['num_epochs'][0]))\n",
        "\n",
        "  mse_loss.append(valida(teste_loader, rede, args['num_epochs'][1]))\n",
        "\n",
        "  mae_loss.append(valida(teste_loader, rede, args['num_epochs'][2]))\n",
        "\n"
      ],
      "metadata": {
        "colab": {
          "base_uri": "https://localhost:8080/",
          "height": 498
        },
        "id": "D4v4gYJbcYAh",
        "outputId": "2544073e-a1a1-4121-8412-e2a6e29c88c5"
      },
      "execution_count": 23,
      "outputs": [
        {
          "output_type": "stream",
          "name": "stderr",
          "text": [
            "/usr/local/lib/python3.10/dist-packages/torch/utils/data/dataloader.py:557: UserWarning: This DataLoader will create 4 worker processes in total. Our suggested max number of worker in current system is 2, which is smaller than what this DataLoader is going to create. Please be aware that excessive worker creation might get DataLoader running slow or even freeze, lower the worker number to avoid potential slowness/freeze if necessary.\n",
            "  warnings.warn(_create_warning_msg(\n",
            "/usr/local/lib/python3.10/dist-packages/torch/nn/modules/module.py:1518: UserWarning: Implicit dimension choice for softmax has been deprecated. Change the call to include dim=X as an argument.\n",
            "  return self._call_impl(*args, **kwargs)\n"
          ]
        },
        {
          "output_type": "error",
          "ename": "KeyboardInterrupt",
          "evalue": "ignored",
          "traceback": [
            "\u001b[0;31m---------------------------------------------------------------------------\u001b[0m",
            "\u001b[0;31mKeyboardInterrupt\u001b[0m                         Traceback (most recent call last)",
            "\u001b[0;32m<ipython-input-23-7bc39dcaad17>\u001b[0m in \u001b[0;36m<cell line: 2>\u001b[0;34m()\u001b[0m\n\u001b[1;32m      3\u001b[0m \u001b[0;34m\u001b[0m\u001b[0m\n\u001b[1;32m      4\u001b[0m   \u001b[0;31m# Train\u001b[0m\u001b[0;34m\u001b[0m\u001b[0;34m\u001b[0m\u001b[0m\n\u001b[0;32m----> 5\u001b[0;31m   \u001b[0mtreino_loss\u001b[0m\u001b[0;34m.\u001b[0m\u001b[0mappend\u001b[0m\u001b[0;34m(\u001b[0m\u001b[0mtreina\u001b[0m\u001b[0;34m(\u001b[0m\u001b[0mtreino_loader\u001b[0m\u001b[0;34m,\u001b[0m \u001b[0mrede\u001b[0m\u001b[0;34m,\u001b[0m \u001b[0margs\u001b[0m\u001b[0;34m[\u001b[0m\u001b[0;34m'num_epochs'\u001b[0m\u001b[0;34m]\u001b[0m\u001b[0;34m)\u001b[0m\u001b[0;34m)\u001b[0m\u001b[0;34m\u001b[0m\u001b[0;34m\u001b[0m\u001b[0m\n\u001b[0m\u001b[1;32m      6\u001b[0m \u001b[0;34m\u001b[0m\u001b[0m\n\u001b[1;32m      7\u001b[0m   \u001b[0;31m# Validate\u001b[0m\u001b[0;34m\u001b[0m\u001b[0;34m\u001b[0m\u001b[0m\n",
            "\u001b[0;32m<ipython-input-16-2bf9d623eb66>\u001b[0m in \u001b[0;36mtreina\u001b[0;34m(train_set, rede, num_epochs)\u001b[0m\n\u001b[1;32m     16\u001b[0m \u001b[0;34m\u001b[0m\u001b[0m\n\u001b[1;32m     17\u001b[0m       \u001b[0;31m# Backward\u001b[0m\u001b[0;34m\u001b[0m\u001b[0;34m\u001b[0m\u001b[0m\n\u001b[0;32m---> 18\u001b[0;31m       \u001b[0mloss\u001b[0m\u001b[0;34m.\u001b[0m\u001b[0mbackward\u001b[0m\u001b[0;34m(\u001b[0m\u001b[0;34m)\u001b[0m\u001b[0;34m\u001b[0m\u001b[0;34m\u001b[0m\u001b[0m\n\u001b[0m\u001b[1;32m     19\u001b[0m       \u001b[0moptimizer\u001b[0m\u001b[0;34m.\u001b[0m\u001b[0mstep\u001b[0m\u001b[0;34m(\u001b[0m\u001b[0;34m)\u001b[0m\u001b[0;34m\u001b[0m\u001b[0;34m\u001b[0m\u001b[0m\n\u001b[1;32m     20\u001b[0m \u001b[0;34m\u001b[0m\u001b[0m\n",
            "\u001b[0;32m/usr/local/lib/python3.10/dist-packages/torch/_tensor.py\u001b[0m in \u001b[0;36mbackward\u001b[0;34m(self, gradient, retain_graph, create_graph, inputs)\u001b[0m\n\u001b[1;32m    490\u001b[0m                 \u001b[0minputs\u001b[0m\u001b[0;34m=\u001b[0m\u001b[0minputs\u001b[0m\u001b[0;34m,\u001b[0m\u001b[0;34m\u001b[0m\u001b[0;34m\u001b[0m\u001b[0m\n\u001b[1;32m    491\u001b[0m             )\n\u001b[0;32m--> 492\u001b[0;31m         torch.autograd.backward(\n\u001b[0m\u001b[1;32m    493\u001b[0m             \u001b[0mself\u001b[0m\u001b[0;34m,\u001b[0m \u001b[0mgradient\u001b[0m\u001b[0;34m,\u001b[0m \u001b[0mretain_graph\u001b[0m\u001b[0;34m,\u001b[0m \u001b[0mcreate_graph\u001b[0m\u001b[0;34m,\u001b[0m \u001b[0minputs\u001b[0m\u001b[0;34m=\u001b[0m\u001b[0minputs\u001b[0m\u001b[0;34m\u001b[0m\u001b[0;34m\u001b[0m\u001b[0m\n\u001b[1;32m    494\u001b[0m         )\n",
            "\u001b[0;32m/usr/local/lib/python3.10/dist-packages/torch/autograd/__init__.py\u001b[0m in \u001b[0;36mbackward\u001b[0;34m(tensors, grad_tensors, retain_graph, create_graph, grad_variables, inputs)\u001b[0m\n\u001b[1;32m    249\u001b[0m     \u001b[0;31m# some Python versions print out the first line of a multi-line function\u001b[0m\u001b[0;34m\u001b[0m\u001b[0;34m\u001b[0m\u001b[0m\n\u001b[1;32m    250\u001b[0m     \u001b[0;31m# calls in the traceback and some print out the last line\u001b[0m\u001b[0;34m\u001b[0m\u001b[0;34m\u001b[0m\u001b[0m\n\u001b[0;32m--> 251\u001b[0;31m     Variable._execution_engine.run_backward(  # Calls into the C++ engine to run the backward pass\n\u001b[0m\u001b[1;32m    252\u001b[0m         \u001b[0mtensors\u001b[0m\u001b[0;34m,\u001b[0m\u001b[0;34m\u001b[0m\u001b[0;34m\u001b[0m\u001b[0m\n\u001b[1;32m    253\u001b[0m         \u001b[0mgrad_tensors_\u001b[0m\u001b[0;34m,\u001b[0m\u001b[0;34m\u001b[0m\u001b[0;34m\u001b[0m\u001b[0m\n",
            "\u001b[0;31mKeyboardInterrupt\u001b[0m: "
          ]
        }
      ]
    },
    {
      "cell_type": "code",
      "source": [],
      "metadata": {
        "id": "QcAm4mdNdN6U"
      },
      "execution_count": null,
      "outputs": []
    }
  ]
}